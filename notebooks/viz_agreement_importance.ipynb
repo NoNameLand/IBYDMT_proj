{
 "cells": [
  {
   "cell_type": "code",
   "execution_count": 3,
   "metadata": {},
   "outputs": [],
   "source": [
    "import os\n",
    "import sys\n",
    "import numpy as np\n",
    "import matplotlib.pyplot as plt\n",
    "import seaborn as sns\n",
    "\n",
    "root_dir = \"../\"\n",
    "sys.path.append(root_dir)\n",
    "import configs\n",
    "import datasets\n",
    "from ibydmt.utils.config import get_config\n",
    "from ibydmt.utils.viz import viz_importance_agreement\n",
    "\n",
    "config_name, test_type, concept_type = \"imagenette\", \"local_cond\", \"image\"\n",
    "cardinality = 4\n",
    "results_kw = {\"testing.kernel_scale\": 0.5, \"testing.tau_max\": 200}\n",
    "\n",
    "config = get_config(config_name)\n",
    "\n",
    "sns.set_style()\n",
    "sns.set_context(\"paper\")"
   ]
  },
  {
   "cell_type": "code",
   "execution_count": 5,
   "metadata": {},
   "outputs": [
    {
     "ename": "FileNotFoundError",
     "evalue": "[WinError 3] The system cannot find the path specified: 'D:\\\\IBYDMT_proj\\\\.venv\\\\Lib\\\\site-packages\\\\data\\\\imagenette2\\\\train'",
     "output_type": "error",
     "traceback": [
      "\u001b[31m---------------------------------------------------------------------------\u001b[39m",
      "\u001b[31mFileNotFoundError\u001b[39m                         Traceback (most recent call last)",
      "\u001b[36mCell\u001b[39m\u001b[36m \u001b[39m\u001b[32mIn[5]\u001b[39m\u001b[32m, line 15\u001b[39m\n\u001b[32m     11\u001b[39m     \u001b[38;5;28mprint\u001b[39m(\u001b[33mf\u001b[39m\u001b[33m\"\u001b[39m\u001b[33mAverage: \u001b[39m\u001b[38;5;132;01m{\u001b[39;00mrank_mu\u001b[38;5;132;01m:\u001b[39;00m\u001b[33m.2f\u001b[39m\u001b[38;5;132;01m}\u001b[39;00m\u001b[33m pm \u001b[39m\u001b[38;5;132;01m{\u001b[39;00mrank_std\u001b[38;5;132;01m:\u001b[39;00m\u001b[33m.2f\u001b[39m\u001b[38;5;132;01m}\u001b[39;00m\u001b[33m\"\u001b[39m)\n\u001b[32m     14\u001b[39m _, ax = plt.subplots(figsize=(\u001b[32m5\u001b[39m, \u001b[32m5\u001b[39m))\n\u001b[32m---> \u001b[39m\u001b[32m15\u001b[39m _, importance_agreement_results = \u001b[43mviz_importance_agreement\u001b[49m\u001b[43m(\u001b[49m\n\u001b[32m     16\u001b[39m \u001b[43m    \u001b[49m\u001b[43mconfig\u001b[49m\u001b[43m,\u001b[49m\n\u001b[32m     17\u001b[39m \u001b[43m    \u001b[49m\u001b[43mtest_type\u001b[49m\u001b[43m,\u001b[49m\n\u001b[32m     18\u001b[39m \u001b[43m    \u001b[49m\u001b[43mconcept_type\u001b[49m\u001b[43m,\u001b[49m\n\u001b[32m     19\u001b[39m \u001b[43m    \u001b[49m\u001b[43mcardinality\u001b[49m\u001b[43m=\u001b[49m\u001b[43mcardinality\u001b[49m\u001b[43m,\u001b[49m\n\u001b[32m     20\u001b[39m \u001b[43m    \u001b[49m\u001b[43mresults_kw\u001b[49m\u001b[43m=\u001b[49m\u001b[43mresults_kw\u001b[49m\u001b[43m,\u001b[49m\n\u001b[32m     21\u001b[39m \u001b[43m    \u001b[49m\u001b[43max\u001b[49m\u001b[43m=\u001b[49m\u001b[43max\u001b[49m\u001b[43m,\u001b[49m\n\u001b[32m     22\u001b[39m \u001b[43m)\u001b[49m\n\u001b[32m     23\u001b[39m viz_mean_agreement(importance_agreement_results)\n\u001b[32m     25\u001b[39m figure_name = \u001b[33mf\u001b[39m\u001b[33m\"\u001b[39m\u001b[38;5;132;01m{\u001b[39;00mresults_kw[\u001b[33m'\u001b[39m\u001b[33mtesting.tau_max\u001b[39m\u001b[33m'\u001b[39m]\u001b[38;5;132;01m}\u001b[39;00m\u001b[33m_\u001b[39m\u001b[38;5;132;01m{\u001b[39;00mconcept_type\u001b[38;5;132;01m}\u001b[39;00m\u001b[33m\"\u001b[39m\n",
      "\u001b[36mFile \u001b[39m\u001b[32md:\\IBYDMT_proj\\.venv\\Lib\\site-packages\\ibydmt\\utils\\viz\\agreement.py:21\u001b[39m, in \u001b[36mviz_importance_agreement\u001b[39m\u001b[34m(config, test_type, concept_type, workdir, cardinality, results_kw, ax)\u001b[39m\n\u001b[32m     12\u001b[39m \u001b[38;5;28;01mdef\u001b[39;00m\u001b[38;5;250m \u001b[39m\u001b[34mviz_importance_agreement\u001b[39m(\n\u001b[32m     13\u001b[39m     config: Config,\n\u001b[32m     14\u001b[39m     test_type: \u001b[38;5;28mstr\u001b[39m,\n\u001b[32m   (...)\u001b[39m\u001b[32m     19\u001b[39m     ax: Optional[plt.Axes] = \u001b[38;5;28;01mNone\u001b[39;00m,\n\u001b[32m     20\u001b[39m ):\n\u001b[32m---> \u001b[39m\u001b[32m21\u001b[39m     backbones, importance_agreement_results = \u001b[43mimportance_agreement\u001b[49m\u001b[43m(\u001b[49m\n\u001b[32m     22\u001b[39m \u001b[43m        \u001b[49m\u001b[43mconfig\u001b[49m\u001b[43m,\u001b[49m\n\u001b[32m     23\u001b[39m \u001b[43m        \u001b[49m\u001b[43mtest_type\u001b[49m\u001b[43m,\u001b[49m\n\u001b[32m     24\u001b[39m \u001b[43m        \u001b[49m\u001b[43mconcept_type\u001b[49m\u001b[43m,\u001b[49m\n\u001b[32m     25\u001b[39m \u001b[43m        \u001b[49m\u001b[43mworkdir\u001b[49m\u001b[43m=\u001b[49m\u001b[43mworkdir\u001b[49m\u001b[43m,\u001b[49m\n\u001b[32m     26\u001b[39m \u001b[43m        \u001b[49m\u001b[43mcardinality\u001b[49m\u001b[43m=\u001b[49m\u001b[43mcardinality\u001b[49m\u001b[43m,\u001b[49m\n\u001b[32m     27\u001b[39m \u001b[43m        \u001b[49m\u001b[43mresults_kw\u001b[49m\u001b[43m=\u001b[49m\u001b[43mresults_kw\u001b[49m\u001b[43m,\u001b[49m\n\u001b[32m     28\u001b[39m \u001b[43m    \u001b[49m\u001b[43m)\u001b[49m\n\u001b[32m     30\u001b[39m     _viz_agreement(\n\u001b[32m     31\u001b[39m         backbones,\n\u001b[32m     32\u001b[39m         importance_agreement_results,\n\u001b[32m     33\u001b[39m         heatmap_kws=\u001b[38;5;28mdict\u001b[39m(vmin=\u001b[32m0\u001b[39m, vmax=\u001b[32m1\u001b[39m, cbar_kws=\u001b[38;5;28mdict\u001b[39m(label=\u001b[33m\"\u001b[39m\u001b[33mImportance agreement\u001b[39m\u001b[33m\"\u001b[39m)),\n\u001b[32m     34\u001b[39m         ax=ax,\n\u001b[32m     35\u001b[39m     )\n\u001b[32m     36\u001b[39m     \u001b[38;5;28;01mreturn\u001b[39;00m backbones, importance_agreement_results\n",
      "\u001b[36mFile \u001b[39m\u001b[32md:\\IBYDMT_proj\\.venv\\Lib\\site-packages\\ibydmt\\utils\\agreement.py:30\u001b[39m, in \u001b[36mimportance_agreement\u001b[39m\u001b[34m(config, test_type, concept_type, workdir, cardinality, results_kw)\u001b[39m\n\u001b[32m     22\u001b[39m \u001b[38;5;28;01mdef\u001b[39;00m\u001b[38;5;250m \u001b[39m\u001b[34mimportance_agreement\u001b[39m(\n\u001b[32m     23\u001b[39m     config: Config,\n\u001b[32m     24\u001b[39m     test_type: \u001b[38;5;28mstr\u001b[39m,\n\u001b[32m   (...)\u001b[39m\u001b[32m     28\u001b[39m     results_kw: Optional[Mapping[\u001b[38;5;28mstr\u001b[39m, Any]] = \u001b[38;5;28;01mNone\u001b[39;00m,\n\u001b[32m     29\u001b[39m ):\n\u001b[32m---> \u001b[39m\u001b[32m30\u001b[39m     n_elements, results = \u001b[43mload_all_backbone_results\u001b[49m\u001b[43m(\u001b[49m\n\u001b[32m     31\u001b[39m \u001b[43m        \u001b[49m\u001b[43mconfig\u001b[49m\u001b[43m,\u001b[49m\n\u001b[32m     32\u001b[39m \u001b[43m        \u001b[49m\u001b[43mtest_type\u001b[49m\u001b[43m,\u001b[49m\n\u001b[32m     33\u001b[39m \u001b[43m        \u001b[49m\u001b[43mconcept_type\u001b[49m\u001b[43m,\u001b[49m\n\u001b[32m     34\u001b[39m \u001b[43m        \u001b[49m\u001b[43mworkdir\u001b[49m\u001b[43m=\u001b[49m\u001b[43mworkdir\u001b[49m\u001b[43m,\u001b[49m\n\u001b[32m     35\u001b[39m \u001b[43m        \u001b[49m\u001b[43mcardinality\u001b[49m\u001b[43m=\u001b[49m\u001b[43mcardinality\u001b[49m\u001b[43m,\u001b[49m\n\u001b[32m     36\u001b[39m \u001b[43m        \u001b[49m\u001b[43mresults_kw\u001b[49m\u001b[43m=\u001b[49m\u001b[43mresults_kw\u001b[49m\u001b[43m,\u001b[49m\n\u001b[32m     37\u001b[39m \u001b[43m    \u001b[49m\u001b[43m)\u001b[49m\n\u001b[32m     39\u001b[39m     n_backbones = \u001b[38;5;28mlen\u001b[39m(results)\n\u001b[32m     40\u001b[39m     importance_agreement = np.zeros((n_elements, n_backbones, n_backbones))\n",
      "\u001b[36mFile \u001b[39m\u001b[32md:\\IBYDMT_proj\\.venv\\Lib\\site-packages\\ibydmt\\utils\\agreement.py:116\u001b[39m, in \u001b[36mload_all_backbone_results\u001b[39m\u001b[34m(config, test_type, concept_type, pcbm, workdir, cardinality, results_kw)\u001b[39m\n\u001b[32m    111\u001b[39m \u001b[38;5;28;01mif\u001b[39;00m test_type == TestType.LOCAL_COND.value:\n\u001b[32m    112\u001b[39m     \u001b[38;5;28;01massert\u001b[39;00m cardinality \u001b[38;5;129;01mis\u001b[39;00m \u001b[38;5;129;01mnot\u001b[39;00m \u001b[38;5;28;01mNone\u001b[39;00m, \u001b[38;5;167;01mValueError\u001b[39;00m(\n\u001b[32m    113\u001b[39m         \u001b[33m\"\u001b[39m\u001b[33mCardinality must be provided for local conditional tests.\u001b[39m\u001b[33m\"\u001b[39m\n\u001b[32m    114\u001b[39m     )\n\u001b[32m--> \u001b[39m\u001b[32m116\u001b[39m dataset = \u001b[43mget_dataset\u001b[49m\u001b[43m(\u001b[49m\u001b[43mconfig\u001b[49m\u001b[43m)\u001b[49m\n\u001b[32m    117\u001b[39m classes = dataset.classes\n\u001b[32m    119\u001b[39m test_classes = get_test_classes(config)\n",
      "\u001b[36mFile \u001b[39m\u001b[32md:\\IBYDMT_proj\\.venv\\Lib\\site-packages\\ibydmt\\utils\\data.py:35\u001b[39m, in \u001b[36mget_dataset\u001b[39m\u001b[34m(config, train, transform, workdir)\u001b[39m\n\u001b[32m     33\u001b[39m \u001b[38;5;28;01mif\u001b[39;00m hostname == \u001b[33m\"\u001b[39m\u001b[33mio85\u001b[39m\u001b[33m\"\u001b[39m:\n\u001b[32m     34\u001b[39m     root = os.path.join(root, hostname)\n\u001b[32m---> \u001b[39m\u001b[32m35\u001b[39m \u001b[38;5;28;01mreturn\u001b[39;00m \u001b[43mdatasets\u001b[49m\u001b[43m[\u001b[49m\u001b[43mname\u001b[49m\u001b[43m]\u001b[49m\u001b[43m(\u001b[49m\u001b[43mroot\u001b[49m\u001b[43m,\u001b[49m\u001b[43m \u001b[49m\u001b[43mtrain\u001b[49m\u001b[43m=\u001b[49m\u001b[43mtrain\u001b[49m\u001b[43m,\u001b[49m\u001b[43m \u001b[49m\u001b[43mtransform\u001b[49m\u001b[43m=\u001b[49m\u001b[43mtransform\u001b[49m\u001b[43m)\u001b[49m\n",
      "\u001b[36mFile \u001b[39m\u001b[32md:\\IBYDMT_proj\\notebooks\\..\\datasets\\imagenette.py:40\u001b[39m, in \u001b[36mImagenette.__init__\u001b[39m\u001b[34m(self, root, train, transform)\u001b[39m\n\u001b[32m     37\u001b[39m \u001b[38;5;28mself\u001b[39m.op = \u001b[33m\"\u001b[39m\u001b[33mtrain\u001b[39m\u001b[33m\"\u001b[39m \u001b[38;5;28;01mif\u001b[39;00m train \u001b[38;5;28;01melse\u001b[39;00m \u001b[33m\"\u001b[39m\u001b[33mtest\u001b[39m\u001b[33m\"\u001b[39m\n\u001b[32m     38\u001b[39m \u001b[38;5;28mself\u001b[39m.image_root = os.path.join(root, \u001b[33m\"\u001b[39m\u001b[33mimagenette2\u001b[39m\u001b[33m\"\u001b[39m, \u001b[38;5;28mself\u001b[39m.op)\n\u001b[32m---> \u001b[39m\u001b[32m40\u001b[39m \u001b[38;5;28mself\u001b[39m.wnids, \u001b[38;5;28mself\u001b[39m.wnid_to_idx = \u001b[43mfind_classes\u001b[49m\u001b[43m(\u001b[49m\u001b[38;5;28;43mself\u001b[39;49m\u001b[43m.\u001b[49m\u001b[43mimage_root\u001b[49m\u001b[43m)\u001b[49m\n\u001b[32m     41\u001b[39m \u001b[38;5;28mself\u001b[39m.classes = [\u001b[38;5;28mself\u001b[39m.WNID_TO_CLASS[wnid][\u001b[32m0\u001b[39m] \u001b[38;5;28;01mfor\u001b[39;00m wnid \u001b[38;5;129;01min\u001b[39;00m \u001b[38;5;28mself\u001b[39m.wnids]\n\u001b[32m     43\u001b[39m \u001b[38;5;28mself\u001b[39m.samples = make_dataset(\n\u001b[32m     44\u001b[39m     \u001b[38;5;28mself\u001b[39m.image_root, \u001b[38;5;28mself\u001b[39m.wnid_to_idx, extensions=\u001b[33m\"\u001b[39m\u001b[33m.jpeg\u001b[39m\u001b[33m\"\u001b[39m\n\u001b[32m     45\u001b[39m )\n",
      "\u001b[36mFile \u001b[39m\u001b[32md:\\IBYDMT_proj\\.venv\\Lib\\site-packages\\torchvision\\datasets\\folder.py:41\u001b[39m, in \u001b[36mfind_classes\u001b[39m\u001b[34m(directory)\u001b[39m\n\u001b[32m     36\u001b[39m \u001b[38;5;28;01mdef\u001b[39;00m\u001b[38;5;250m \u001b[39m\u001b[34mfind_classes\u001b[39m(directory: Union[\u001b[38;5;28mstr\u001b[39m, Path]) -> Tuple[List[\u001b[38;5;28mstr\u001b[39m], Dict[\u001b[38;5;28mstr\u001b[39m, \u001b[38;5;28mint\u001b[39m]]:\n\u001b[32m     37\u001b[39m \u001b[38;5;250m    \u001b[39m\u001b[33;03m\"\"\"Finds the class folders in a dataset.\u001b[39;00m\n\u001b[32m     38\u001b[39m \n\u001b[32m     39\u001b[39m \u001b[33;03m    See :class:`DatasetFolder` for details.\u001b[39;00m\n\u001b[32m     40\u001b[39m \u001b[33;03m    \"\"\"\u001b[39;00m\n\u001b[32m---> \u001b[39m\u001b[32m41\u001b[39m     classes = \u001b[38;5;28msorted\u001b[39m(entry.name \u001b[38;5;28;01mfor\u001b[39;00m entry \u001b[38;5;129;01min\u001b[39;00m \u001b[43mos\u001b[49m\u001b[43m.\u001b[49m\u001b[43mscandir\u001b[49m\u001b[43m(\u001b[49m\u001b[43mdirectory\u001b[49m\u001b[43m)\u001b[49m \u001b[38;5;28;01mif\u001b[39;00m entry.is_dir())\n\u001b[32m     42\u001b[39m     \u001b[38;5;28;01mif\u001b[39;00m \u001b[38;5;129;01mnot\u001b[39;00m classes:\n\u001b[32m     43\u001b[39m         \u001b[38;5;28;01mraise\u001b[39;00m \u001b[38;5;167;01mFileNotFoundError\u001b[39;00m(\u001b[33mf\u001b[39m\u001b[33m\"\u001b[39m\u001b[33mCouldn\u001b[39m\u001b[33m'\u001b[39m\u001b[33mt find any class folder in \u001b[39m\u001b[38;5;132;01m{\u001b[39;00mdirectory\u001b[38;5;132;01m}\u001b[39;00m\u001b[33m.\u001b[39m\u001b[33m\"\u001b[39m)\n",
      "\u001b[31mFileNotFoundError\u001b[39m: [WinError 3] The system cannot find the path specified: 'D:\\\\IBYDMT_proj\\\\.venv\\\\Lib\\\\site-packages\\\\data\\\\imagenette2\\\\train'"
     ]
    },
    {
     "data": {
      "image/png": "[encoded data removed]",
      "text/plain": [
       "<Figure size 500x500 with 1 Axes>"
      ]
     },
     "metadata": {},
     "output_type": "display_data"
    }
   ],
   "source": [
    "figure_dir = os.path.join(\n",
    "    root_dir, \"figures\", config.name.lower(), test_type, \"importance_agreement\"\n",
    ")\n",
    "os.makedirs(figure_dir, exist_ok=True)\n",
    "\n",
    "\n",
    "def viz_mean_agreement(importance_agreement_results):\n",
    "    off_diagonal = ~np.eye(importance_agreement_results.shape[1], dtype=bool)\n",
    "    rank_mu = importance_agreement_results[:, off_diagonal].mean()\n",
    "    rank_std = importance_agreement_results[:, off_diagonal].std()\n",
    "    print(f\"Average: {rank_mu:.2f} pm {rank_std:.2f}\")\n",
    "\n",
    "\n",
    "_, ax = plt.subplots(figsize=(5, 5))\n",
    "_, importance_agreement_results = viz_importance_agreement(\n",
    "    config,\n",
    "    test_type,\n",
    "    concept_type,\n",
    "    cardinality=cardinality,\n",
    "    results_kw=results_kw,\n",
    "    ax=ax,\n",
    ")\n",
    "viz_mean_agreement(importance_agreement_results)\n",
    "\n",
    "figure_name = f\"{results_kw['testing.tau_max']}_{concept_type}\"\n",
    "if cardinality is not None:\n",
    "    figure_name += f\"_{cardinality}\"\n",
    "plt.savefig(os.path.join(figure_dir, f\"{figure_name}.pdf\"), bbox_inches=\"tight\")\n",
    "plt.savefig(os.path.join(figure_dir, f\"{figure_name}.jpg\"), bbox_inches=\"tight\")\n",
    "plt.show()\n",
    "plt.close()"
   ]
  },
  {
   "cell_type": "code",
   "execution_count": null,
   "metadata": {},
   "outputs": [],
   "source": []
  }
 ],
 "metadata": {
  "kernelspec": {
   "display_name": ".venv",
   "language": "python",
   "name": "python3"
  },
  "language_info": {
   "codemirror_mode": {
    "name": "ipython",
    "version": 3
   },
   "file_extension": ".py",
   "mimetype": "text/x-python",
   "name": "python",
   "nbconvert_exporter": "python",
   "pygments_lexer": "ipython3",
   "version": "3.11.5"
  }
 },
 "nbformat": 4,
 "nbformat_minor": 2
}

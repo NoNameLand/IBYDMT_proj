{
 "cells": [
  {
   "cell_type": "code",
   "execution_count": 2,
   "metadata": {},
   "outputs": [
    {
     "ename": "FileNotFoundError",
     "evalue": "[WinError 3] The system cannot find the path specified: 'D:\\\\IBYDMT_proj\\\\.venv\\\\Lib\\\\site-packages\\\\data\\\\imagenette2\\\\test'",
     "output_type": "error",
     "traceback": [
      "\u001b[31m---------------------------------------------------------------------------\u001b[39m",
      "\u001b[31mFileNotFoundError\u001b[39m                         Traceback (most recent call last)",
      "\u001b[36mCell\u001b[39m\u001b[36m \u001b[39m\u001b[32mIn[2]\u001b[39m\u001b[32m, line 18\u001b[39m\n\u001b[32m     15\u001b[39m config_name = \u001b[33m\"\u001b[39m\u001b[33mimagenette\u001b[39m\u001b[33m\"\u001b[39m\n\u001b[32m     16\u001b[39m config = get_config(config_name)\n\u001b[32m---> \u001b[39m\u001b[32m18\u001b[39m dataset = \u001b[43mget_dataset\u001b[49m\u001b[43m(\u001b[49m\u001b[43mconfig\u001b[49m\u001b[43m,\u001b[49m\u001b[43m \u001b[49m\u001b[43mtrain\u001b[49m\u001b[43m=\u001b[49m\u001b[38;5;28;43;01mFalse\u001b[39;49;00m\u001b[43m)\u001b[49m\n\u001b[32m     19\u001b[39m label = [target \u001b[38;5;28;01mfor\u001b[39;00m _, target \u001b[38;5;129;01min\u001b[39;00m dataset.samples]\n\u001b[32m     20\u001b[39m classes = dataset.classes\n",
      "\u001b[36mFile \u001b[39m\u001b[32md:\\IBYDMT_proj\\.venv\\Lib\\site-packages\\ibydmt\\utils\\data.py:35\u001b[39m, in \u001b[36mget_dataset\u001b[39m\u001b[34m(config, train, transform, workdir)\u001b[39m\n\u001b[32m     33\u001b[39m \u001b[38;5;28;01mif\u001b[39;00m hostname == \u001b[33m\"\u001b[39m\u001b[33mio85\u001b[39m\u001b[33m\"\u001b[39m:\n\u001b[32m     34\u001b[39m     root = os.path.join(root, hostname)\n\u001b[32m---> \u001b[39m\u001b[32m35\u001b[39m \u001b[38;5;28;01mreturn\u001b[39;00m \u001b[43mdatasets\u001b[49m\u001b[43m[\u001b[49m\u001b[43mname\u001b[49m\u001b[43m]\u001b[49m\u001b[43m(\u001b[49m\u001b[43mroot\u001b[49m\u001b[43m,\u001b[49m\u001b[43m \u001b[49m\u001b[43mtrain\u001b[49m\u001b[43m=\u001b[49m\u001b[43mtrain\u001b[49m\u001b[43m,\u001b[49m\u001b[43m \u001b[49m\u001b[43mtransform\u001b[49m\u001b[43m=\u001b[49m\u001b[43mtransform\u001b[49m\u001b[43m)\u001b[49m\n",
      "\u001b[36mFile \u001b[39m\u001b[32md:\\IBYDMT_proj\\notebooks\\..\\datasets\\imagenette.py:40\u001b[39m, in \u001b[36mImagenette.__init__\u001b[39m\u001b[34m(self, root, train, transform)\u001b[39m\n\u001b[32m     37\u001b[39m \u001b[38;5;28mself\u001b[39m.op = \u001b[33m\"\u001b[39m\u001b[33mtrain\u001b[39m\u001b[33m\"\u001b[39m \u001b[38;5;28;01mif\u001b[39;00m train \u001b[38;5;28;01melse\u001b[39;00m \u001b[33m\"\u001b[39m\u001b[33mtest\u001b[39m\u001b[33m\"\u001b[39m\n\u001b[32m     38\u001b[39m \u001b[38;5;28mself\u001b[39m.image_root = os.path.join(root, \u001b[33m\"\u001b[39m\u001b[33mimagenette2\u001b[39m\u001b[33m\"\u001b[39m, \u001b[38;5;28mself\u001b[39m.op)\n\u001b[32m---> \u001b[39m\u001b[32m40\u001b[39m \u001b[38;5;28mself\u001b[39m.wnids, \u001b[38;5;28mself\u001b[39m.wnid_to_idx = \u001b[43mfind_classes\u001b[49m\u001b[43m(\u001b[49m\u001b[38;5;28;43mself\u001b[39;49m\u001b[43m.\u001b[49m\u001b[43mimage_root\u001b[49m\u001b[43m)\u001b[49m\n\u001b[32m     41\u001b[39m \u001b[38;5;28mself\u001b[39m.classes = [\u001b[38;5;28mself\u001b[39m.WNID_TO_CLASS[wnid][\u001b[32m0\u001b[39m] \u001b[38;5;28;01mfor\u001b[39;00m wnid \u001b[38;5;129;01min\u001b[39;00m \u001b[38;5;28mself\u001b[39m.wnids]\n\u001b[32m     43\u001b[39m \u001b[38;5;28mself\u001b[39m.samples = make_dataset(\n\u001b[32m     44\u001b[39m     \u001b[38;5;28mself\u001b[39m.image_root, \u001b[38;5;28mself\u001b[39m.wnid_to_idx, extensions=\u001b[33m\"\u001b[39m\u001b[33m.jpeg\u001b[39m\u001b[33m\"\u001b[39m\n\u001b[32m     45\u001b[39m )\n",
      "\u001b[36mFile \u001b[39m\u001b[32md:\\IBYDMT_proj\\.venv\\Lib\\site-packages\\torchvision\\datasets\\folder.py:41\u001b[39m, in \u001b[36mfind_classes\u001b[39m\u001b[34m(directory)\u001b[39m\n\u001b[32m     36\u001b[39m \u001b[38;5;28;01mdef\u001b[39;00m\u001b[38;5;250m \u001b[39m\u001b[34mfind_classes\u001b[39m(directory: Union[\u001b[38;5;28mstr\u001b[39m, Path]) -> Tuple[List[\u001b[38;5;28mstr\u001b[39m], Dict[\u001b[38;5;28mstr\u001b[39m, \u001b[38;5;28mint\u001b[39m]]:\n\u001b[32m     37\u001b[39m \u001b[38;5;250m    \u001b[39m\u001b[33;03m\"\"\"Finds the class folders in a dataset.\u001b[39;00m\n\u001b[32m     38\u001b[39m \n\u001b[32m     39\u001b[39m \u001b[33;03m    See :class:`DatasetFolder` for details.\u001b[39;00m\n\u001b[32m     40\u001b[39m \u001b[33;03m    \"\"\"\u001b[39;00m\n\u001b[32m---> \u001b[39m\u001b[32m41\u001b[39m     classes = \u001b[38;5;28msorted\u001b[39m(entry.name \u001b[38;5;28;01mfor\u001b[39;00m entry \u001b[38;5;129;01min\u001b[39;00m \u001b[43mos\u001b[49m\u001b[43m.\u001b[49m\u001b[43mscandir\u001b[49m\u001b[43m(\u001b[49m\u001b[43mdirectory\u001b[49m\u001b[43m)\u001b[49m \u001b[38;5;28;01mif\u001b[39;00m entry.is_dir())\n\u001b[32m     42\u001b[39m     \u001b[38;5;28;01mif\u001b[39;00m \u001b[38;5;129;01mnot\u001b[39;00m classes:\n\u001b[32m     43\u001b[39m         \u001b[38;5;28;01mraise\u001b[39;00m \u001b[38;5;167;01mFileNotFoundError\u001b[39;00m(\u001b[33mf\u001b[39m\u001b[33m\"\u001b[39m\u001b[33mCouldn\u001b[39m\u001b[33m'\u001b[39m\u001b[33mt find any class folder in \u001b[39m\u001b[38;5;132;01m{\u001b[39;00mdirectory\u001b[38;5;132;01m}\u001b[39;00m\u001b[33m.\u001b[39m\u001b[33m\"\u001b[39m)\n",
      "\u001b[31mFileNotFoundError\u001b[39m: [WinError 3] The system cannot find the path specified: 'D:\\\\IBYDMT_proj\\\\.venv\\\\Lib\\\\site-packages\\\\data\\\\imagenette2\\\\test'"
     ]
    }
   ],
   "source": [
    "import os\n",
    "import sys\n",
    "import numpy as np\n",
    "from sklearn import metrics\n",
    "\n",
    "root_dir = \"../\"\n",
    "sys.path.append(root_dir)\n",
    "import configs\n",
    "import datasets\n",
    "from ibydmt.utils.config import get_config\n",
    "from ibydmt.utils.data import get_dataset\n",
    "from ibydmt.classifiers import Classifier\n",
    "from ibydmt.tester import get_test_classes\n",
    "\n",
    "config_name = \"imagenette\"\n",
    "config = get_config(config_name)\n",
    "\n",
    "dataset = get_dataset(config, train=False)\n",
    "label = [target for _, target in dataset.samples]\n",
    "classes = dataset.classes\n",
    "\n",
    "test_classes = get_test_classes(config)\n",
    "test_classes_idx = np.array([classes.index(c) for c in test_classes])\n",
    "\n",
    "backbone_configs = config.sweep([\"data.backbone\"])"
   ]
  },
  {
   "cell_type": "code",
   "execution_count": null,
   "metadata": {},
   "outputs": [],
   "source": [
    "accuracy = np.zeros((len(backbone_configs), len(test_classes)))\n",
    "\n",
    "for i, backbone_config in enumerate(backbone_configs):\n",
    "    df = Classifier.get_predictions(backbone_config)\n",
    "\n",
    "    output = df.values[:, 1:]\n",
    "    prediction = np.argmax(output, axis=-1)\n",
    "    confusion_matrix = metrics.confusion_matrix(label, prediction, normalize=\"true\")\n",
    "    backbone_accuracy = np.diag(confusion_matrix)\n",
    "    backbone_accuracy = backbone_accuracy[test_classes_idx]\n",
    "\n",
    "    accuracy[i] = backbone_accuracy\n",
    "\n",
    "    print(f\"{backbone_config.data.backbone}:\")\n",
    "    sorted_class_idx = np.argsort(backbone_accuracy)[::-1]\n",
    "    sorted_class_names = [test_classes[idx] for idx in sorted_class_idx]\n",
    "    sorted_backbone_accuracy = backbone_accuracy[sorted_class_idx]\n",
    "    for class_name, class_accuracy in zip(sorted_class_names, sorted_backbone_accuracy):\n",
    "        print(f\"\\t {class_name}: {class_accuracy:.2%}\")\n",
    "\n",
    "    print(\n",
    "        f\"{backbone_config.data.backbone} & \"\n",
    "        + \" & \".join([f\"${a*100:.2f}\\\\%$\" for a in backbone_accuracy])\n",
    "    )\n",
    "    print(\n",
    "        f\"Average: {np.mean(backbone_accuracy):.2%} pm {np.std(backbone_accuracy):.2%}\"\n",
    "    )\n",
    "\n",
    "\n",
    "accuracy_mu = np.mean(accuracy, axis=0)\n",
    "accuracy_std = np.std(accuracy, axis=0)\n",
    "print(\n",
    "    \"average & \"\n",
    "    + \" & \".join(\n",
    "        [\n",
    "            f\"${mu*100:.2f}\\\\% \\pm {std*100:.2f}\\\\%$\"\n",
    "            for mu, std in zip(accuracy_mu, accuracy_std)\n",
    "        ]\n",
    "    )\n",
    ")\n",
    "# for class_name, mu, std in zip(test_classes, accuracy_mu, accuracy_std):\n",
    "#     print(f\"{class_name}: {mu:.2%} pm {std:.2%}\")\n",
    "# sorted_class_idx = np.argsort(accuracy_mu)[::-1][:k]\n",
    "# sorted_accuracy = accuracy_mu[sorted_class_idx]\n",
    "# sorted_std = accuracy_std[sorted_class_idx]\n",
    "# sorted_class_names = [test_classes[idx] for idx in sorted_class_idx]\n",
    "# print(f\"Top {k} classes:\")\n",
    "# for class_name, class_accuracy, class_std in zip(\n",
    "#     sorted_class_names, sorted_accuracy, sorted_std\n",
    "# ):\n",
    "#     print(f\"\\t {class_name}: {class_accuracy:.2%} pm {class_std:.2%}\")\n",
    "\n",
    "# test_classes_path = os.path.join(\n",
    "#     root_dir, \"results\", config.name.lower(), \"test_classes.txt\"\n",
    "# )\n",
    "# with open(test_classes_path, \"w\") as f:\n",
    "#     for class_name in sorted_class_names:\n",
    "#         f.write(f\"{class_name}\\n\")"
   ]
  },
  {
   "cell_type": "code",
   "execution_count": null,
   "metadata": {},
   "outputs": [],
   "source": [
    "print(np.mean(accuracy), np.std(accuracy))"
   ]
  },
  {
   "cell_type": "code",
   "execution_count": null,
   "metadata": {},
   "outputs": [],
   "source": []
  }
 ],
 "metadata": {
  "kernelspec": {
   "display_name": ".venv",
   "language": "python",
   "name": "python3"
  },
  "language_info": {
   "codemirror_mode": {
    "name": "ipython",
    "version": 3
   },
   "file_extension": ".py",
   "mimetype": "text/x-python",
   "name": "python",
   "nbconvert_exporter": "python",
   "pygments_lexer": "ipython3",
   "version": "3.11.5"
  }
 },
 "nbformat": 4,
 "nbformat_minor": 2
}
